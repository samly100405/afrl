{
 "cells": [
  {
   "cell_type": "markdown",
   "metadata": {},
   "source": [
    "# Consolidating data\n",
    "\n",
    "This file consists of functions that consolidate our disparate datasets into one large dataset that is useful in training our model. \n",
    "\n",
    "The goal is to generate a file with 30 columns (this number should be variable), such that each column is a state in time. \n",
    "\n",
    "Ideally, this will be done with heirachical data, ie `p1` is the first point in time, and within `p1` you have an x component, y component, etc.\n",
    "\n",
    "https://pandas.pydata.org/docs/user_guide/advanced.html\n",
    "\n",
    "## Input data format\n",
    "\n",
    "It is assumed that the input data with have the columns: `[timestamp,tx,ty,tz,qx,qy,qz,qw]`"
   ]
  },
  {
   "cell_type": "markdown",
   "metadata": {},
   "source": [
    "## Extracting the data we want\n",
    "\n",
    "This function will create velocity and acceleration columns."
   ]
  },
  {
   "cell_type": "code",
   "execution_count": 18,
   "metadata": {},
   "outputs": [],
   "source": [
    "import numpy as np\n",
    "import pandas as pd\n",
    "\n",
    "def extract_features(raw: pd.DataFrame) -> None:\n",
    "    raw['vx'] = raw['tx'].diff() / raw['timestamp'].diff()\n",
    "    raw['vy'] = raw['ty'].diff() / raw['timestamp'].diff()\n",
    "    raw['vz'] = raw['tz'].diff() / raw['timestamp'].diff()\n",
    "\n",
    "    raw['ax'] = raw['vx'].diff() / raw['timestamp'].diff()\n",
    "    raw['ay'] = raw['vy'].diff() / raw['timestamp'].diff()\n",
    "    raw['az'] = raw['vz'].diff() / raw['timestamp'].diff()"
   ]
  },
  {
   "cell_type": "code",
   "execution_count": 19,
   "metadata": {},
   "outputs": [
    {
     "name": "stdout",
     "output_type": "stream",
     "text": [
      "      timestamp        tx        ty        tz        qx        qy        qz  \\\n",
      "0  1.540820e+09  7.605101  0.240696 -0.754351 -0.269284 -0.661755  0.641923   \n",
      "1  1.540820e+09  7.604394  0.241403 -0.754263 -0.269227 -0.661660  0.641935   \n",
      "2  1.540820e+09  7.603792  0.242395 -0.753890 -0.269081 -0.661483  0.642058   \n",
      "3  1.540820e+09  7.603930  0.243608 -0.753434 -0.269001 -0.661389  0.642086   \n",
      "4  1.540820e+09  7.604787  0.244973 -0.752511 -0.268968 -0.661503  0.641952   \n",
      "\n",
      "         qw        vx        vy        vz        ax        ay        az  \n",
      "0  0.278390       NaN       NaN       NaN       NaN       NaN       NaN  \n",
      "1  0.278642 -0.010881  0.010879  0.001350       NaN       NaN       NaN  \n",
      "2  0.278923 -0.006013  0.009916  0.003732  0.048684 -0.009624  0.023827  \n",
      "3  0.279157  0.001377  0.012131  0.004557  0.073898  0.022147  0.008241  \n",
      "4  0.279228  0.008571  0.013648  0.009230  0.071941  0.015168  0.046731  \n",
      "0      1.540820e+09\n",
      "1      1.540820e+09\n",
      "2      1.540820e+09\n",
      "3      1.540820e+09\n",
      "4      1.540820e+09\n",
      "           ...     \n",
      "491    1.540820e+09\n",
      "492    1.540820e+09\n",
      "493    1.540820e+09\n",
      "494    1.540820e+09\n",
      "495    1.540820e+09\n",
      "Name: timestamp, Length: 496, dtype: float64\n"
     ]
    }
   ],
   "source": [
    "# test the above functions\n",
    "\n",
    "df = pd.read_csv(\"../data/fpv_uzh/indoor_forward_3_davis_with_gt.txt\")\n",
    "\n",
    "extract_features(df)\n",
    "\n",
    "print(df.head())\n",
    "print(df['timestamp'])"
   ]
  },
  {
   "cell_type": "markdown",
   "metadata": {},
   "source": [
    "## Slicing the data\n",
    "\n",
    "Now, we want rows of data that represent a specific range of time. In this case, we want 30 points for each new row."
   ]
  },
  {
   "cell_type": "code",
   "execution_count": 20,
   "metadata": {},
   "outputs": [],
   "source": [
    "def generate_slices(data: pd.DataFrame, n: int) -> pd.DataFrame:\n",
    "    # each row in the original data is a \"point\". Each row in the output \n",
    "    # is a list of points of size n. \n",
    "    cols = [f\"{col}_{i}\" for i in range(n) for col in data.columns]\n",
    "    out = pd.DataFrame(columns=cols)\n",
    "    for i in range(len(data) - n):\n",
    "        flattened = pd.DataFrame([data[i:i+n].to_numpy().flatten()])\n",
    "        flattened.columns = cols\n",
    "        out = pd.concat([out if not out.empty else None, flattened], ignore_index=False)\n",
    "    return out"
   ]
  },
  {
   "cell_type": "code",
   "execution_count": 21,
   "metadata": {},
   "outputs": [
    {
     "name": "stdout",
     "output_type": "stream",
     "text": [
      "    timestamp_0      tx_0      ty_0      tz_0      qx_0      qy_0      qz_0  \\\n",
      "0  1.540820e+09  7.605101  0.240696 -0.754351 -0.269284 -0.661755  0.641923   \n",
      "0  1.540820e+09  7.604394  0.241403 -0.754263 -0.269227 -0.661660  0.641935   \n",
      "0  1.540820e+09  7.603792  0.242395 -0.753890 -0.269081 -0.661483  0.642058   \n",
      "0  1.540820e+09  7.603930  0.243608 -0.753434 -0.269001 -0.661389  0.642086   \n",
      "0  1.540820e+09  7.604787  0.244973 -0.752511 -0.268968 -0.661503  0.641952   \n",
      "\n",
      "       qw_0      vx_0      vy_0  ...      qx_3      qy_3      qz_3      qw_3  \\\n",
      "0  0.278390       NaN       NaN  ... -0.269001 -0.661389  0.642086  0.279157   \n",
      "0  0.278642 -0.010881  0.010879  ... -0.268968 -0.661503  0.641952  0.279228   \n",
      "0  0.278923 -0.006013  0.009916  ... -0.269007 -0.661649  0.641821  0.279146   \n",
      "0  0.279157  0.001377  0.012131  ... -0.268870 -0.661571  0.641922  0.279229   \n",
      "0  0.279228  0.008571  0.013648  ... -0.269057 -0.662028  0.641452  0.279046   \n",
      "\n",
      "       vx_3      vy_3      vz_3      ax_3      ay_3      az_3  \n",
      "0  0.001377  0.012131  0.004557  0.073898  0.022147  0.008241  \n",
      "0  0.008571  0.013648  0.009230  0.071941  0.015168  0.046731  \n",
      "0  0.005177  0.011415  0.008960 -0.033934 -0.022326 -0.002695  \n",
      "0  0.003167  0.008536  0.006144 -0.020107 -0.028794 -0.028158  \n",
      "0  0.008559  0.006565 -0.007456  0.053924 -0.019712 -0.136007  \n",
      "\n",
      "[5 rows x 56 columns]\n"
     ]
    }
   ],
   "source": [
    "# test the above function\n",
    "\n",
    "slices = generate_slices(df, 4)\n",
    "print(slices.head())"
   ]
  },
  {
   "cell_type": "markdown",
   "metadata": {},
   "source": [
    "## Consolidate all our original data\n",
    "\n",
    "Now, we want to consolidate our data from all the other sources."
   ]
  },
  {
   "cell_type": "code",
   "execution_count": 22,
   "metadata": {},
   "outputs": [],
   "source": [
    "import os\n",
    "\n",
    "fpv_data = \"../data/fpv_uzh\"\n",
    "random_traj_data = \"../data/random_trajectory_100ms\"\n",
    "output_path = \"../data/output\"\n",
    "n = 30 # we want 30 points per row\n",
    "slices = []\n",
    "\n",
    "# consolidate the fpv data\n",
    "for filename in filter(lambda p: p.endswith(\"txt\"), os.listdir(fpv_data)):\n",
    "    filepath = os.path.join(fpv_data, filename)\n",
    "    df = pd.read_csv(filepath)\n",
    "    \n",
    "    extract_features(df)\n",
    "    # the columns should be handled in the generate slices funciton\n",
    "    slices.append(generate_slices(df, n))\n",
    "    \n",
    "# consolidate the synthetic data\n",
    "for filename in filter(lambda p: p.endswith(\"txt\"), os.listdir(random_traj_data)):\n",
    "    filepath = os.path.join(random_traj_data, filename)\n",
    "    df = pd.read_csv(filepath)\n",
    "    \n",
    "    extract_features(df)\n",
    "    # the columns should be handled in the generate slices funciton\n",
    "    slices.append(generate_slices(df, n))\n",
    "\n",
    "consolidated = pd.concat(slices, ignore_index=False)\n",
    "consolidated.to_csv(os.path.join(output_path, \"consolidated.csv\"))"
   ]
  }
 ],
 "metadata": {
  "kernelspec": {
   "display_name": "ml",
   "language": "python",
   "name": "python3"
  },
  "language_info": {
   "codemirror_mode": {
    "name": "ipython",
    "version": 3
   },
   "file_extension": ".py",
   "mimetype": "text/x-python",
   "name": "python",
   "nbconvert_exporter": "python",
   "pygments_lexer": "ipython3",
   "version": "3.13.1"
  }
 },
 "nbformat": 4,
 "nbformat_minor": 2
}
