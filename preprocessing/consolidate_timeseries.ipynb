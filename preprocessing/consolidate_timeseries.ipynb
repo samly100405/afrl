{
 "cells": [
  {
   "cell_type": "markdown",
   "metadata": {},
   "source": [
    "# Consolidating data\n",
    "\n",
    "This file consists of functions that consolidate our disparate datasets into one large dataset that is useful in training our model. \n",
    "\n",
    "The goal is to generate a file with 30 columns (this number should be variable), such that each column is a state in time. \n",
    "\n",
    "Ideally, this will be done with heirachical data, ie `p1` is the first point in time, and within `p1` you have an x component, y component, etc.\n",
    "\n",
    "https://pandas.pydata.org/docs/user_guide/advanced.html\n",
    "\n",
    "## Input data format\n",
    "\n",
    "It is assumed that the input data with have the columns: `[timestamp,tx,ty,tz,qx,qy,qz,qw]`"
   ]
  },
  {
   "cell_type": "markdown",
   "metadata": {},
   "source": [
    "## Extracting the data we want\n",
    "\n",
    "In our case, we want just the velocity data (for now)."
   ]
  },
  {
   "cell_type": "code",
   "execution_count": null,
   "metadata": {},
   "outputs": [],
   "source": [
    "import numpy as np\n",
    "import pandas as pd\n",
    "\n",
    "# Hardcode the data source for now, we will access other data later\n",
    "pos_df = pd.read_csv(\"../data/fpv_uzh/indoor_forward_3_davis_with_gt.txt\", usecols=['timestamp', 'tx', 'ty', 'tz'])\n",
    "\n",
    "def generate_velocity(position_data: pd.DataFrame) -> pd.DataFrame:\n",
    "    velocity_data = {\n",
    "        'timestamp': position_data['timestamp'],\n",
    "        'vx': position_data['tx'].diff() / position_data['timestamp'].diff(),\n",
    "        'vy': position_data['ty'].diff() / position_data['timestamp'].diff(),\n",
    "        'vz': position_data['tz'].diff() / position_data['timestamp'].diff()\n",
    "    }\n",
    "\n",
    "    return pd.DataFrame(velocity_data).dropna().reset_index(drop=True)\n",
    "\n",
    "vel_df = generate_velocity(pos_df)\n",
    "\n",
    "print(vel_df.head())"
   ]
  }
 ],
 "metadata": {
  "language_info": {
   "name": "python"
  }
 },
 "nbformat": 4,
 "nbformat_minor": 2
}
